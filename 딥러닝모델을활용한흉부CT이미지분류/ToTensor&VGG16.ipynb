{
 "cells": [
  {
   "cell_type": "markdown",
   "metadata": {},
   "source": [
    "- model : vgg16\n",
    "- trans : transforms.Normalize(mean=[0.485, 0.456, 0.406],std=[0.229, 0.224, 0.225])\n",
    "- optim : Adam(vgg16(pretrained=True).classifier.parameters(), lr = 0.0001)\n",
    "- lr_scheduler : StepLR(optim, step_size=7, gamma=0.1)"
   ]
  },
  {
   "cell_type": "code",
   "execution_count": 1,
   "metadata": {
    "scrolled": false
   },
   "outputs": [],
   "source": [
    "from glob import glob\n",
    "import pandas as pd\n",
    "from PIL import Image\n",
    "import numpy as np\n",
    "import torch\n",
    "import torchvision\n",
    "from torch.utils.data import DataLoader\n",
    "from torchvision import transforms\n",
    "import joblib\n",
    "import time, copy\n",
    "\n",
    "# Model\n",
    "import torch.nn as nn\n",
    "import torch.optim as optim\n",
    "from torch.optim import lr_scheduler\n",
    "from torchsummary import summary\n",
    "from torchvision.models import vgg16\n",
    "\n",
    "# 성능 평가\n",
    "from sklearn.metrics import f1_score\n",
    "\n",
    "# 시각화\n",
    "import matplotlib.pyplot as plt"
   ]
  },
  {
   "cell_type": "code",
   "execution_count": 4,
   "metadata": {},
   "outputs": [],
   "source": [
    "trans = transforms.Compose([transforms.ToTensor(),\n",
    "                           transforms.Normalize((0.485, 0.465, 0.406), (0.229, 0.224,0.225))])"
   ]
  },
  {
   "cell_type": "code",
   "execution_count": 5,
   "metadata": {},
   "outputs": [],
   "source": [
    "train_set = torchvision.datasets.ImageFolder(root = './ML/Train_faabad06fe/Train',\n",
    "                                             transform = trans)\n",
    "val_set = torchvision.datasets.ImageFolder(root = './ML/Validation_9857834a3b',\n",
    "                                           transform = trans)"
   ]
  },
  {
   "cell_type": "code",
   "execution_count": 6,
   "metadata": {},
   "outputs": [
    {
     "name": "stdout",
     "output_type": "stream",
     "text": [
      "['ILD', 'Lung_Cancer', 'Normal', 'pneumonia', 'pneumothorax']\n",
      "['ILD', 'Lung_Cancer', 'Normal', 'pneumonia', 'pneumothorax']\n"
     ]
    }
   ],
   "source": [
    "print(train_set.classes)\n",
    "print(val_set.classes)"
   ]
  },
  {
   "cell_type": "code",
   "execution_count": 7,
   "metadata": {},
   "outputs": [],
   "source": [
    "image_set = {'train' : train_set, 'val' : val_set}\n",
    "image_loaders = {x: DataLoader(image_set[x], batch_size=32, shuffle=True, num_workers=0)\n",
    "                 for x in ['train', 'val']}\n",
    "dataset_sizes = {x: len(image_set[x]) for x in ['train', 'val']}\n",
    "class_names = image_set['train'].classes"
   ]
  },
  {
   "cell_type": "code",
   "execution_count": 8,
   "metadata": {},
   "outputs": [],
   "source": [
    "if torch.cuda.is_available():\n",
    "    device = torch.device('cuda:0')\n",
    "else:\n",
    "    device = torch.device('cpu')"
   ]
  },
  {
   "cell_type": "code",
   "execution_count": 9,
   "metadata": {},
   "outputs": [
    {
     "data": {
      "text/plain": [
       "device(type='cuda', index=0)"
      ]
     },
     "execution_count": 9,
     "metadata": {},
     "output_type": "execute_result"
    }
   ],
   "source": [
    "device"
   ]
  },
  {
   "cell_type": "code",
   "execution_count": 11,
   "metadata": {},
   "outputs": [],
   "source": [
    "# 성능 시각화를 위한 losses, flscores 변수 선언.\n",
    "losses = {'train':[], 'val':[]}\n",
    "flscores = {'train':[], 'val':[]}"
   ]
  },
  {
   "cell_type": "code",
   "execution_count": 12,
   "metadata": {},
   "outputs": [],
   "source": [
    "def train_model(model, criterion, optimizer, scheduler, num_epochs=10):\n",
    "    since = time.time()\n",
    "\n",
    "    best_model_wts = copy.deepcopy(model.state_dict())\n",
    "    best_f1score = 0.0\n",
    "    \n",
    "    for epoch in range(num_epochs):\n",
    "        print(f'Epoch {epoch}/{num_epochs - 1}')\n",
    "        print('-' * 10)\n",
    "\n",
    "        # 각 에폭(epoch)마다 train과 val 단계 진행.\n",
    "        for phase in ['train', 'val']:\n",
    "            if phase == 'train':\n",
    "                model.train()  # 모델을 학습 모드로 설정.\n",
    "            else:\n",
    "                model.eval()   # 모델을 평가 모드로 설정.\n",
    "\n",
    "            running_loss = 0.0\n",
    "            running_f1score = []\n",
    "\n",
    "            # 데이터를 반복.\n",
    "            for inputs, labels in image_loaders[phase]:\n",
    "                inputs = inputs.to(device)\n",
    "                labels = labels.to(device)\n",
    "\n",
    "                # 매개변수 경사도를 0으로 설정.\n",
    "                optimizer.zero_grad()\n",
    "                \n",
    "                # 학습.\n",
    "                if phase == 'train':\n",
    "                    with torch.set_grad_enabled(phase == 'train'):\n",
    "                        outputs = model(inputs)\n",
    "                        _, preds = torch.max(outputs, dim=1)\n",
    "                        #_, preds = torch.max(outputs, 1)\n",
    "                        loss = criterion(outputs, labels)\n",
    "                        f1score = f1_score(labels.data.cpu(), preds.data.cpu(), average = 'macro')\n",
    "\n",
    "                        # 역전파 + 최적화 진행.\n",
    "                        loss.requires_grad_(True)\n",
    "                        loss.backward()\n",
    "                        optimizer.step()\n",
    "                \n",
    "                # 평가.\n",
    "                if phase == 'val':\n",
    "                    with torch.no_grad():\n",
    "                        outputs = model(inputs)\n",
    "                        _, preds = torch.max(outputs, dim=1)\n",
    "                        #_, preds = torch.max(outputs, 1)\n",
    "                        loss = criterion(outputs, labels)\n",
    "                        f1score = f1_score(labels.data.cpu(), preds.data.cpu(), average = 'macro')\n",
    "                        \n",
    "                # 통계.\n",
    "                running_loss += loss.item() * inputs.size(0)\n",
    "                running_f1score.append(f1score)\n",
    "                \n",
    "            if phase == 'train':\n",
    "                scheduler.step()\n",
    "\n",
    "            epoch_loss = running_loss / dataset_sizes[phase]\n",
    "            epoch_f1score = sum(running_f1score) / len(running_f1score)\n",
    "            \n",
    "            losses[phase].append(epoch_loss)\n",
    "            flscores[phase].append(epoch_f1score)\n",
    "            \n",
    "            print(f'{phase} Loss: {epoch_loss:.4f} F1-Score: {epoch_f1score:.4f}')\n",
    "\n",
    "            # 모델 deep copy.\n",
    "            if phase == 'val' and epoch_f1score > best_f1score:\n",
    "                best_f1score = epoch_f1score\n",
    "                best_model_wts = copy.deepcopy(model.state_dict())\n",
    "\n",
    "        print()\n",
    "\n",
    "    time_elapsed = time.time() - since\n",
    "    print(f'Training complete in {time_elapsed // 60:.0f}m {time_elapsed % 60:.0f}s')\n",
    "    print(f'Best val F1-Score: {best_f1score:4f}')\n",
    "\n",
    "    # 가장 나은 모델 가중치를 불러옴.\n",
    "    model.load_state_dict(best_model_wts)\n",
    "    return model"
   ]
  },
  {
   "cell_type": "code",
   "execution_count": 24,
   "metadata": {},
   "outputs": [],
   "source": [
    "model_conv = vgg16(pretrained = True)\n",
    "\n",
    "# 새로 생성된 모듈의 매개변수는 기본값이 requires_grad=True\n",
    "for param in model_conv.parameters():\n",
    "    param.requires_grad = False\n",
    "\n",
    "num_ftrs = model_conv.classifier[6].in_features\n",
    "model_conv.classifier[6] = nn.Linear(num_ftrs, 5)\n",
    "\n",
    "model_conv = model_conv.to(device)\n",
    "\n",
    "criterion = nn.CrossEntropyLoss()\n",
    "\n",
    "#optimizer_conv = optim.SGD(model_conv.classifier.parameters(), lr=0.001, momentum=0.9)\n",
    "optimizer_conv = optim.Adam(model_conv.classifier.parameters(), lr=0.0001)\n",
    "\n",
    "# 7 에폭마다 0.1씩 학습률 감소\n",
    "exp_lr_scheduler = lr_scheduler.StepLR(optimizer_conv, step_size=7, gamma=0.1)"
   ]
  },
  {
   "cell_type": "code",
   "execution_count": 25,
   "metadata": {
    "scrolled": false
   },
   "outputs": [
    {
     "name": "stdout",
     "output_type": "stream",
     "text": [
      "Epoch 0/14\n",
      "----------\n",
      "train Loss: 1.0363 F1-Score: 0.3605\n",
      "val Loss: 0.7881 F1-Score: 0.4968\n",
      "\n",
      "Epoch 1/14\n",
      "----------\n",
      "train Loss: 0.7323 F1-Score: 0.5932\n",
      "val Loss: 0.6324 F1-Score: 0.6179\n",
      "\n",
      "Epoch 2/14\n",
      "----------\n",
      "train Loss: 0.6325 F1-Score: 0.6464\n",
      "val Loss: 0.5565 F1-Score: 0.6865\n",
      "\n",
      "Epoch 3/14\n",
      "----------\n",
      "train Loss: 0.5735 F1-Score: 0.6847\n",
      "val Loss: 0.5133 F1-Score: 0.6919\n",
      "\n",
      "Epoch 4/14\n",
      "----------\n",
      "train Loss: 0.5382 F1-Score: 0.7000\n",
      "val Loss: 0.4857 F1-Score: 0.7114\n",
      "\n",
      "Epoch 5/14\n",
      "----------\n",
      "train Loss: 0.5208 F1-Score: 0.7086\n",
      "val Loss: 0.4597 F1-Score: 0.7270\n",
      "\n",
      "Epoch 6/14\n",
      "----------\n",
      "train Loss: 0.5026 F1-Score: 0.7182\n",
      "val Loss: 0.4400 F1-Score: 0.7550\n",
      "\n",
      "Epoch 7/14\n",
      "----------\n",
      "train Loss: 0.4939 F1-Score: 0.7247\n",
      "val Loss: 0.4404 F1-Score: 0.7369\n",
      "\n",
      "Epoch 8/14\n",
      "----------\n",
      "train Loss: 0.4862 F1-Score: 0.7151\n",
      "val Loss: 0.4364 F1-Score: 0.7452\n",
      "\n",
      "Epoch 9/14\n",
      "----------\n",
      "train Loss: 0.4878 F1-Score: 0.7275\n",
      "val Loss: 0.4356 F1-Score: 0.7532\n",
      "\n",
      "Epoch 10/14\n",
      "----------\n",
      "train Loss: 0.4900 F1-Score: 0.7238\n",
      "val Loss: 0.4361 F1-Score: 0.7541\n",
      "\n",
      "Epoch 11/14\n",
      "----------\n",
      "train Loss: 0.4869 F1-Score: 0.7148\n",
      "val Loss: 0.4316 F1-Score: 0.7693\n",
      "\n",
      "Epoch 12/14\n",
      "----------\n",
      "train Loss: 0.4841 F1-Score: 0.7217\n",
      "val Loss: 0.4291 F1-Score: 0.7657\n",
      "\n",
      "Epoch 13/14\n",
      "----------\n",
      "train Loss: 0.4827 F1-Score: 0.7184\n",
      "val Loss: 0.4290 F1-Score: 0.7674\n",
      "\n",
      "Epoch 14/14\n",
      "----------\n",
      "train Loss: 0.4758 F1-Score: 0.7338\n",
      "val Loss: 0.4289 F1-Score: 0.7490\n",
      "\n",
      "Training complete in 35m 17s\n",
      "Best val F1-Score: 0.769312\n"
     ]
    }
   ],
   "source": [
    "model_conv = train_model(model_conv, criterion, optimizer_conv,\n",
    "                         exp_lr_scheduler, num_epochs=15)"
   ]
  },
  {
   "cell_type": "code",
   "execution_count": 47,
   "metadata": {},
   "outputs": [],
   "source": [
    "torch.save(model_conv, 'VGG16AdamSave.pt')"
   ]
  },
  {
   "cell_type": "code",
   "execution_count": 45,
   "metadata": {},
   "outputs": [
    {
     "data": {
      "image/png": "[encoded data removed]",
      "text/plain": [
       "<Figure size 864x288 with 2 Axes>"
      ]
     },
     "metadata": {
      "needs_background": "light"
     },
     "output_type": "display_data"
    }
   ],
   "source": [
    "f, (ax1, ax2) = plt.subplots(1, 2, figsize=(12, 4))\n",
    "t = f.suptitle('VGG16_Adam', fontsize=12)\n",
    "f.subplots_adjust(top=0.85, wspace=0.3)\n",
    "\n",
    "epochs = 15 #에폭사이즈\n",
    "ax1.plot(range(epochs), flscores['train'][1:], label='Train F1-Score')\n",
    "ax1.plot(range(epochs), flscores['val'][1:], label='Validation F1-Score')\n",
    "ax1.set_xticks(np.arange(0, epochs))\n",
    "ax1.set_ylabel('F1-Score Value')\n",
    "ax1.set_xlabel('Epoch')\n",
    "ax1.set_title('F1-Score')\n",
    "l1 = ax1.legend(loc=\"best\")\n",
    "\n",
    "ax2.plot(range(epochs), losses['train'][1:], label='Train Loss')\n",
    "ax2.plot(range(epochs), losses['val'][1:], label='Validation Loss')\n",
    "ax2.set_xticks(np.arange(0, epochs))\n",
    "ax2.set_ylabel('Loss Value')\n",
    "ax2.set_xlabel('Epoch')\n",
    "ax2.set_title('Loss')\n",
    "l2 = ax2.legend(loc=\"best\")"
   ]
  },
  {
   "cell_type": "code",
   "execution_count": 48,
   "metadata": {},
   "outputs": [],
   "source": [
    "f.savefig('vgg16adam_plt', dpi = 300)"
   ]
  },
  {
   "cell_type": "code",
   "execution_count": null,
   "metadata": {},
   "outputs": [],
   "source": []
  }
 ],
 "metadata": {
  "kernelspec": {
   "display_name": "Python 3 (ipykernel)",
   "language": "python",
   "name": "python3"
  },
  "language_info": {
   "codemirror_mode": {
    "name": "ipython",
    "version": 3
   },
   "file_extension": ".py",
   "mimetype": "text/x-python",
   "name": "python",
   "nbconvert_exporter": "python",
   "pygments_lexer": "ipython3",
   "version": "3.9.7"
  }
 },
 "nbformat": 4,
 "nbformat_minor": 4
}
