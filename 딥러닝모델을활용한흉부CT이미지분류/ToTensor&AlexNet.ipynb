{
 "cells": [
  {
   "cell_type": "markdown",
   "metadata": {},
   "source": [
    "- model : alexnet\n",
    "- trans : transforms.Normalize(mean=[0.485, 0.456, 0.406],std=[0.229, 0.224, 0.225])\n",
    "- optim : Adam(alexnet(pretrained=True).classifier.parameters(), lr = 0.001)\n",
    "- lr_scheduler : StepLR(optim, step_size=7, gamma=0.1)"
   ]
  },
  {
   "cell_type": "code",
   "execution_count": 1,
   "metadata": {
    "scrolled": false
   },
   "outputs": [],
   "source": [
    "from glob import glob\n",
    "import pandas as pd\n",
    "from PIL import Image\n",
    "import numpy as np\n",
    "import torch\n",
    "import torchvision\n",
    "from torch.utils.data import DataLoader\n",
    "from torchvision import transforms\n",
    "import joblib\n",
    "import time, copy\n",
    "\n",
    "# Model\n",
    "import torch.nn as nn\n",
    "import torch.optim as optim\n",
    "from torch.optim import lr_scheduler\n",
    "from torchsummary import summary\n",
    "from torchvision.models import alexnet\n",
    "\n",
    "# 성능 평가\n",
    "from sklearn.metrics import f1_score\n",
    "\n",
    "# 시각화\n",
    "import matplotlib.pyplot as plt"
   ]
  },
  {
   "cell_type": "code",
   "execution_count": 5,
   "metadata": {},
   "outputs": [],
   "source": [
    "trans = transforms.Compose([transforms.ToTensor(),\n",
    "                           transforms.Normalize((0.485, 0.465, 0.406), (0.229, 0.224,0.225))])"
   ]
  },
  {
   "cell_type": "code",
   "execution_count": 6,
   "metadata": {},
   "outputs": [],
   "source": [
    "train_set = torchvision.datasets.ImageFolder(root = './ML/Train_faabad06fe/Train',\n",
    "                                             transform = trans)\n",
    "val_set = torchvision.datasets.ImageFolder(root = './ML/Validation_9857834a3b',\n",
    "                                           transform = trans)"
   ]
  },
  {
   "cell_type": "code",
   "execution_count": 7,
   "metadata": {},
   "outputs": [
    {
     "name": "stdout",
     "output_type": "stream",
     "text": [
      "['ILD', 'Lung_Cancer', 'Normal', 'pneumonia', 'pneumothorax']\n",
      "['ILD', 'Lung_Cancer', 'Normal', 'pneumonia', 'pneumothorax']\n"
     ]
    }
   ],
   "source": [
    "print(train_set.classes)\n",
    "print(val_set.classes)"
   ]
  },
  {
   "cell_type": "code",
   "execution_count": 8,
   "metadata": {},
   "outputs": [],
   "source": [
    "image_set = {'train' : train_set, 'val' : val_set}\n",
    "image_loaders = {x: DataLoader(image_set[x], batch_size=32, shuffle=True, num_workers=0)\n",
    "                 for x in ['train', 'val']}\n",
    "dataset_sizes = {x: len(image_set[x]) for x in ['train', 'val']}\n",
    "class_names = image_set['train'].classes"
   ]
  },
  {
   "cell_type": "code",
   "execution_count": 9,
   "metadata": {},
   "outputs": [],
   "source": [
    "if torch.cuda.is_available():\n",
    "    device = torch.device('cuda:0')\n",
    "else:\n",
    "    device = torch.device('cpu')"
   ]
  },
  {
   "cell_type": "code",
   "execution_count": 10,
   "metadata": {},
   "outputs": [
    {
     "data": {
      "text/plain": [
       "device(type='cuda', index=0)"
      ]
     },
     "execution_count": 10,
     "metadata": {},
     "output_type": "execute_result"
    }
   ],
   "source": [
    "device"
   ]
  },
  {
   "cell_type": "code",
   "execution_count": 22,
   "metadata": {},
   "outputs": [],
   "source": [
    "# 성능 시각화를 위한 losses, flscores 변수 선언.\n",
    "losses = {'train':[], 'val':[]}\n",
    "flscores = {'train':[], 'val':[]}"
   ]
  },
  {
   "cell_type": "code",
   "execution_count": 23,
   "metadata": {},
   "outputs": [],
   "source": [
    "def train_model(model, criterion, optimizer, scheduler, num_epochs=10):\n",
    "    since = time.time()\n",
    "\n",
    "    best_model_wts = copy.deepcopy(model.state_dict())\n",
    "    best_f1score = 0.0\n",
    "    \n",
    "    for epoch in range(num_epochs):\n",
    "        print(f'Epoch {epoch}/{num_epochs - 1}')\n",
    "        print('-' * 10)\n",
    "\n",
    "        # 각 에폭(epoch)마다 train과 val 단계 진행.\n",
    "        for phase in ['train', 'val']:\n",
    "            if phase == 'train':\n",
    "                model.train()  # 모델을 학습 모드로 설정.\n",
    "            else:\n",
    "                model.eval()   # 모델을 평가 모드로 설정.\n",
    "\n",
    "            running_loss = 0.0\n",
    "            running_f1score = []\n",
    "\n",
    "            # 데이터를 반복.\n",
    "            for inputs, labels in image_loaders[phase]:\n",
    "                inputs = inputs.to(device)\n",
    "                labels = labels.to(device)\n",
    "\n",
    "                # 매개변수 경사도를 0으로 설정.\n",
    "                optimizer.zero_grad()\n",
    "                \n",
    "                # 학습.\n",
    "                if phase == 'train':\n",
    "                    with torch.set_grad_enabled(phase == 'train'):\n",
    "                        outputs = model(inputs)\n",
    "                        _, preds = torch.max(outputs, dim=1)\n",
    "                        #_, preds = torch.max(outputs, 1)\n",
    "                        loss = criterion(outputs, labels)\n",
    "                        f1score = f1_score(labels.data.cpu(), preds.data.cpu(), average = 'macro')\n",
    "\n",
    "                        # 역전파 + 최적화 진행.\n",
    "                        loss.requires_grad_(True)\n",
    "                        loss.backward()\n",
    "                        optimizer.step()\n",
    "                \n",
    "                # 평가.\n",
    "                if phase == 'val':\n",
    "                    with torch.no_grad():\n",
    "                        outputs = model(inputs)\n",
    "                        _, preds = torch.max(outputs, dim=1)\n",
    "                        #_, preds = torch.max(outputs, 1)\n",
    "                        loss = criterion(outputs, labels)\n",
    "                        f1score = f1_score(labels.data.cpu(), preds.data.cpu(), average = 'macro')\n",
    "                        \n",
    "                # 통계.\n",
    "                running_loss += loss.item() * inputs.size(0)\n",
    "                running_f1score.append(f1score)\n",
    "                \n",
    "            if phase == 'train':\n",
    "                scheduler.step()\n",
    "\n",
    "            epoch_loss = running_loss / dataset_sizes[phase]\n",
    "            epoch_f1score = sum(running_f1score) / len(running_f1score)\n",
    "            \n",
    "            losses[phase].append(epoch_loss)\n",
    "            flscores[phase].append(epoch_f1score)\n",
    "            \n",
    "            print(f'{phase} Loss: {epoch_loss:.4f} F1-Score: {epoch_f1score:.4f}')\n",
    "\n",
    "            # 모델 deep copy.\n",
    "            if phase == 'val' and epoch_f1score > best_f1score:\n",
    "                best_f1score = epoch_f1score\n",
    "                best_model_wts = copy.deepcopy(model.state_dict())\n",
    "\n",
    "        print()\n",
    "\n",
    "    time_elapsed = time.time() - since\n",
    "    print(f'Training complete in {time_elapsed // 60:.0f}m {time_elapsed % 60:.0f}s')\n",
    "    print(f'Best val F1-Score: {best_f1score:4f}')\n",
    "\n",
    "    # 가장 나은 모델 가중치를 불러옴.\n",
    "    model.load_state_dict(best_model_wts)\n",
    "    return model"
   ]
  },
  {
   "cell_type": "code",
   "execution_count": 26,
   "metadata": {},
   "outputs": [],
   "source": [
    "model_conv = alexnet(pretrained=True).to(device)\n",
    "\n",
    "# 새로 생성된 모듈의 매개변수는 기본값이 requires_grad=True\n",
    "for param in model_conv.parameters():\n",
    "    param.requires_grad = False\n",
    "\n",
    "num_ftrs = model_conv.classifier[6].in_features\n",
    "model_conv.classifier[6] = nn.Linear(num_ftrs, 5)\n",
    "\n",
    "model_conv = model_conv.to(device)\n",
    "\n",
    "criterion = nn.CrossEntropyLoss()\n",
    "\n",
    "#optimizer_conv = optim.SGD(model_conv.classifier.parameters(), lr=0.001, momentum=0.9)\n",
    "optimizer_conv = optim.Adam(model_conv.classifier.parameters(), lr=0.001)\n",
    "\n",
    "# 7 에폭마다 0.1씩 학습률 감소\n",
    "exp_lr_scheduler = lr_scheduler.StepLR(optimizer_conv, step_size=7, gamma=0.1)"
   ]
  },
  {
   "cell_type": "code",
   "execution_count": 27,
   "metadata": {
    "scrolled": false
   },
   "outputs": [
    {
     "name": "stdout",
     "output_type": "stream",
     "text": [
      "Epoch 0/14\n",
      "----------\n",
      "train Loss: 0.6766 F1-Score: 0.6152\n",
      "val Loss: 0.5260 F1-Score: 0.6229\n",
      "\n",
      "Epoch 1/14\n",
      "----------\n",
      "train Loss: 0.5601 F1-Score: 0.6813\n",
      "val Loss: 0.4462 F1-Score: 0.7175\n",
      "\n",
      "Epoch 2/14\n",
      "----------\n",
      "train Loss: 0.5588 F1-Score: 0.6951\n",
      "val Loss: 0.3998 F1-Score: 0.7490\n",
      "\n",
      "Epoch 3/14\n",
      "----------\n",
      "train Loss: 0.5236 F1-Score: 0.7004\n",
      "val Loss: 0.4160 F1-Score: 0.7165\n",
      "\n",
      "Epoch 4/14\n",
      "----------\n",
      "train Loss: 0.5236 F1-Score: 0.7047\n",
      "val Loss: 0.4984 F1-Score: 0.6704\n",
      "\n",
      "Epoch 5/14\n",
      "----------\n",
      "train Loss: 0.5237 F1-Score: 0.7130\n",
      "val Loss: 0.4178 F1-Score: 0.7209\n",
      "\n",
      "Epoch 6/14\n",
      "----------\n",
      "train Loss: 0.5100 F1-Score: 0.7231\n",
      "val Loss: 0.3398 F1-Score: 0.7886\n",
      "\n",
      "Epoch 7/14\n",
      "----------\n",
      "train Loss: 0.4633 F1-Score: 0.7484\n",
      "val Loss: 0.4065 F1-Score: 0.7530\n",
      "\n",
      "Epoch 8/14\n",
      "----------\n",
      "train Loss: 0.4729 F1-Score: 0.7419\n",
      "val Loss: 0.3993 F1-Score: 0.7406\n",
      "\n",
      "Epoch 9/14\n",
      "----------\n",
      "train Loss: 0.4637 F1-Score: 0.7412\n",
      "val Loss: 0.4052 F1-Score: 0.7311\n",
      "\n",
      "Epoch 10/14\n",
      "----------\n",
      "train Loss: 0.4648 F1-Score: 0.7383\n",
      "val Loss: 0.4372 F1-Score: 0.7231\n",
      "\n",
      "Epoch 11/14\n",
      "----------\n",
      "train Loss: 0.4728 F1-Score: 0.7403\n",
      "val Loss: 0.4158 F1-Score: 0.7291\n",
      "\n",
      "Epoch 12/14\n",
      "----------\n",
      "train Loss: 0.4624 F1-Score: 0.7381\n",
      "val Loss: 0.4131 F1-Score: 0.7329\n",
      "\n",
      "Epoch 13/14\n",
      "----------\n",
      "train Loss: 0.4672 F1-Score: 0.7390\n",
      "val Loss: 0.3999 F1-Score: 0.7408\n",
      "\n",
      "Epoch 14/14\n",
      "----------\n",
      "train Loss: 0.4609 F1-Score: 0.7412\n",
      "val Loss: 0.4067 F1-Score: 0.7297\n",
      "\n",
      "Training complete in 49m 6s\n",
      "Best val F1-Score: 0.788558\n"
     ]
    }
   ],
   "source": [
    "model_conv = train_model(model_conv, criterion, optimizer_conv,\n",
    "                         exp_lr_scheduler, num_epochs=15)"
   ]
  },
  {
   "cell_type": "code",
   "execution_count": 38,
   "metadata": {},
   "outputs": [],
   "source": [
    "torch.save(model_conv, 'AlexNetAdamSave.pt')"
   ]
  },
  {
   "cell_type": "code",
   "execution_count": 39,
   "metadata": {},
   "outputs": [
    {
     "data": {
      "image/png": "[encoded data removed]",
      "text/plain": [
       "<Figure size 864x288 with 2 Axes>"
      ]
     },
     "metadata": {
      "needs_background": "light"
     },
     "output_type": "display_data"
    }
   ],
   "source": [
    "f, (ax1, ax2) = plt.subplots(1, 2, figsize=(12, 4))\n",
    "t = f.suptitle('AlexNetAdam', fontsize=12)\n",
    "f.subplots_adjust(top=0.85, wspace=0.3)\n",
    "\n",
    "epochs = 15 #에폭사이즈\n",
    "ax1.plot(range(epochs), flscores['train'], label='Train F1-Score')\n",
    "ax1.plot(range(epochs), flscores['val'], label='Validation F1-Score')\n",
    "ax1.set_xticks(np.arange(0, epochs))\n",
    "ax1.set_ylabel('F1-Score Value')\n",
    "ax1.set_xlabel('Epoch')\n",
    "ax1.set_title('F1-Score')\n",
    "l1 = ax1.legend(loc=\"best\")\n",
    "\n",
    "ax2.plot(range(epochs), losses['train'], label='Train Loss')\n",
    "ax2.plot(range(epochs), losses['val'], label='Validation Loss')\n",
    "ax2.set_xticks(np.arange(0, epochs))\n",
    "ax2.set_ylabel('Loss Value')\n",
    "ax2.set_xlabel('Epoch')\n",
    "ax2.set_title('Loss')\n",
    "l2 = ax2.legend(loc=\"best\")"
   ]
  },
  {
   "cell_type": "code",
   "execution_count": 40,
   "metadata": {},
   "outputs": [],
   "source": [
    "f.savefig('alexnetadam_plt', dpi = 300)"
   ]
  },
  {
   "cell_type": "code",
   "execution_count": null,
   "metadata": {},
   "outputs": [],
   "source": []
  }
 ],
 "metadata": {
  "kernelspec": {
   "display_name": "Python 3 (ipykernel)",
   "language": "python",
   "name": "python3"
  },
  "language_info": {
   "codemirror_mode": {
    "name": "ipython",
    "version": 3
   },
   "file_extension": ".py",
   "mimetype": "text/x-python",
   "name": "python",
   "nbconvert_exporter": "python",
   "pygments_lexer": "ipython3",
   "version": "3.9.7"
  }
 },
 "nbformat": 4,
 "nbformat_minor": 4
}
