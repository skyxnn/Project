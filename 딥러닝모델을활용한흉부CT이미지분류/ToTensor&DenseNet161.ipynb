{
 "cells": [
  {
   "cell_type": "markdown",
   "id": "62cfc65e",
   "metadata": {},
   "source": [
    "- model : densenet161\n",
    "- trans : transforms.Normalize(mean=[0.485, 0.456, 0.406],std=[0.229, 0.224, 0.225])\n",
    "- optim : Adam(densenet161(pretrained=True).classifier.parameters(), lr = 0.001)\n",
    "- lr_scheduler : StepLR(optim, step_size=7, gamma=0.1)"
   ]
  },
  {
   "cell_type": "code",
   "execution_count": 1,
   "id": "02f947b3",
   "metadata": {},
   "outputs": [],
   "source": [
    "from glob import glob\n",
    "import pandas as pd\n",
    "from PIL import Image\n",
    "import numpy as np\n",
    "import torch\n",
    "import torchvision\n",
    "from torch.utils.data import DataLoader\n",
    "from torchvision import transforms\n",
    "import joblib\n",
    "import time, copy\n",
    "\n",
    "# Model\n",
    "import torch.nn as nn\n",
    "import torch.optim as optim\n",
    "from torch.optim import lr_scheduler\n",
    "from torchsummary import summary\n",
    "\n",
    "# 성능 평가\n",
    "from sklearn.metrics import f1_score\n",
    "\n",
    "# 시각화\n",
    "import matplotlib.pyplot as plt"
   ]
  },
  {
   "cell_type": "code",
   "execution_count": 2,
   "id": "3041fec9",
   "metadata": {},
   "outputs": [
    {
     "name": "stderr",
     "output_type": "stream",
     "text": [
      "Using TensorFlow backend.\n"
     ]
    }
   ],
   "source": [
    "import keras"
   ]
  },
  {
   "cell_type": "code",
   "execution_count": 6,
   "id": "2bc34383",
   "metadata": {},
   "outputs": [],
   "source": [
    "trans = transforms.Compose([transforms.ToTensor(),\n",
    "                            transforms.Normalize(mean=[0.485, 0.456, 0.406],std=[0.229, 0.224, 0.225])])"
   ]
  },
  {
   "cell_type": "code",
   "execution_count": 7,
   "id": "9142293b",
   "metadata": {},
   "outputs": [],
   "source": [
    "train_set = torchvision.datasets.ImageFolder(root = './Train_faabad06fe/Train',\n",
    "                                             transform = trans)\n",
    "val_set = torchvision.datasets.ImageFolder(root = './Validation_9857834a3b',\n",
    "                                           transform = trans)"
   ]
  },
  {
   "cell_type": "code",
   "execution_count": 8,
   "id": "044d5892",
   "metadata": {},
   "outputs": [
    {
     "name": "stdout",
     "output_type": "stream",
     "text": [
      "['ILD', 'Lung_Cancer', 'Normal', 'pneumonia', 'pneumothorax']\n",
      "['ILD', 'Lung_Cancer', 'Normal', 'pneumonia', 'pneumothorax']\n"
     ]
    }
   ],
   "source": [
    "print(train_set.classes)\n",
    "print(val_set.classes)"
   ]
  },
  {
   "cell_type": "code",
   "execution_count": 9,
   "id": "aca76f3b",
   "metadata": {},
   "outputs": [],
   "source": [
    "image_set = {'train' : train_set, 'val' : val_set}\n",
    "image_loaders = {x: DataLoader(image_set[x], batch_size=32, shuffle=True, num_workers=0)\n",
    "                 for x in ['train', 'val']}\n",
    "dataset_sizes = {x: len(image_set[x]) for x in ['train', 'val']}\n",
    "class_names = image_set['train'].classes"
   ]
  },
  {
   "cell_type": "code",
   "execution_count": 10,
   "id": "c0d12600",
   "metadata": {},
   "outputs": [],
   "source": [
    "if torch.cuda.is_available():\n",
    "    device = torch.device('cuda:0')\n",
    "else:\n",
    "    device = torch.device('cpu')"
   ]
  },
  {
   "cell_type": "code",
   "execution_count": 11,
   "id": "9408cc94",
   "metadata": {},
   "outputs": [
    {
     "data": {
      "text/plain": [
       "device(type='cuda', index=0)"
      ]
     },
     "execution_count": 11,
     "metadata": {},
     "output_type": "execute_result"
    }
   ],
   "source": [
    "device"
   ]
  },
  {
   "cell_type": "code",
   "execution_count": 13,
   "id": "b8d0793b",
   "metadata": {},
   "outputs": [],
   "source": [
    "# 성능 시각화를 위한 losses, flscores 변수 선언.\n",
    "losses = {'train':[], 'val':[]}\n",
    "flscores = {'train':[], 'val':[]}"
   ]
  },
  {
   "cell_type": "code",
   "execution_count": 14,
   "id": "2ed6ccf6",
   "metadata": {},
   "outputs": [],
   "source": [
    "def train_model(model, criterion, optimizer, scheduler, num_epochs=10):\n",
    "    since = time.time()\n",
    "\n",
    "    best_model_wts = copy.deepcopy(model.state_dict())\n",
    "    best_f1score = 0.0\n",
    "    \n",
    "    for epoch in range(num_epochs):\n",
    "        print(f'Epoch {epoch}/{num_epochs - 1}')\n",
    "        print('-' * 10)\n",
    "\n",
    "        # 각 에폭(epoch)마다 train과 val 단계 진행.\n",
    "        for phase in ['train', 'val']:\n",
    "            if phase == 'train':\n",
    "                model.train()  # 모델을 학습 모드로 설정.\n",
    "            else:\n",
    "                model.eval()   # 모델을 평가 모드로 설정.\n",
    "\n",
    "            running_loss = 0.0\n",
    "            running_f1score = []\n",
    "\n",
    "            # 데이터를 반복.\n",
    "            for inputs, labels in image_loaders[phase]:\n",
    "                inputs = inputs.to(device)\n",
    "                labels = labels.to(device)\n",
    "\n",
    "                # 매개변수 경사도를 0으로 설정.\n",
    "                optimizer.zero_grad()\n",
    "                \n",
    "                # 학습.\n",
    "                if phase == 'train':\n",
    "                    with torch.set_grad_enabled(phase == 'train'):\n",
    "                        outputs = model(inputs)\n",
    "                        _, preds = torch.max(outputs, dim=1)\n",
    "                        #_, preds = torch.max(outputs, 1)\n",
    "                        loss = criterion(outputs, labels)\n",
    "                        f1score = f1_score(labels.data.cpu(), preds.data.cpu(), average = 'macro')\n",
    "\n",
    "                        # 역전파 + 최적화 진행.\n",
    "                        loss.requires_grad_(True)\n",
    "                        loss.backward()\n",
    "                        optimizer.step()\n",
    "                \n",
    "                # 평가.\n",
    "                if phase == 'val':\n",
    "                    with torch.no_grad():\n",
    "                        outputs = model(inputs)\n",
    "                        _, preds = torch.max(outputs, dim=1)\n",
    "                        #_, preds = torch.max(outputs, 1)\n",
    "                        loss = criterion(outputs, labels)\n",
    "                        f1score = f1_score(labels.data.cpu(), preds.data.cpu(), average = 'macro')\n",
    "                        \n",
    "                # 통계.\n",
    "                running_loss += loss.item() * inputs.size(0)\n",
    "                running_f1score.append(f1score)\n",
    "                \n",
    "            if phase == 'train':\n",
    "                scheduler.step()\n",
    "\n",
    "            epoch_loss = running_loss / dataset_sizes[phase]\n",
    "            epoch_f1score = sum(running_f1score) / len(running_f1score)\n",
    "            \n",
    "            losses[phase].append(epoch_loss)\n",
    "            flscores[phase].append(epoch_f1score)\n",
    "            \n",
    "            print(f'{phase} Loss: {epoch_loss:.4f} F1-Score: {epoch_f1score:.4f}')\n",
    "\n",
    "            # 모델 deep copy.\n",
    "            if phase == 'val' and epoch_f1score > best_f1score:\n",
    "                best_f1score = epoch_f1score\n",
    "                best_model_wts = copy.deepcopy(model.state_dict())\n",
    "\n",
    "        print()\n",
    "\n",
    "    time_elapsed = time.time() - since\n",
    "    print(f'Training complete in {time_elapsed // 60:.0f}m {time_elapsed % 60:.0f}s')\n",
    "    print(f'Best val F1-Score: {best_f1score:4f}')\n",
    "\n",
    "    # 가장 나은 모델 가중치를 불러옴.\n",
    "    model.load_state_dict(best_model_wts)\n",
    "    return model"
   ]
  },
  {
   "cell_type": "code",
   "execution_count": 16,
   "id": "55726fd8",
   "metadata": {},
   "outputs": [],
   "source": [
    "model_conv = torchvision.models.densenet161(pretrained=True)\n",
    "\n",
    "# 새로 생성된 모듈의 매개변수는 기본값이 requires_grad=True\n",
    "for param in model_conv.parameters():\n",
    "    param.requires_grad = False\n",
    "\n",
    "num_ftrs = model_conv.classifier.in_features\n",
    "model_conv.classifier = nn.Linear(num_ftrs, 5)\n",
    "\n",
    "model_conv = model_conv.to(device)\n",
    "\n",
    "criterion = nn.CrossEntropyLoss()\n",
    "\n",
    "#optimizer_conv = optim.SGD(model_conv.classifier.parameters(), lr=0.001, momentum=0.9)\n",
    "optimizer_conv = optim.Adam(model_conv.classifier.parameters(), lr=0.001)\n",
    "\n",
    "# 7 에폭마다 0.1씩 학습률 감소\n",
    "exp_lr_scheduler = lr_scheduler.StepLR(optimizer_conv, step_size=7, gamma=0.1)"
   ]
  },
  {
   "cell_type": "code",
   "execution_count": 17,
   "id": "9762494b",
   "metadata": {
    "scrolled": false
   },
   "outputs": [
    {
     "name": "stdout",
     "output_type": "stream",
     "text": [
      "Epoch 0/14\n",
      "----------\n"
     ]
    },
    {
     "name": "stderr",
     "output_type": "stream",
     "text": [
      "/usr/local/lib/python3.8/dist-packages/torch/nn/functional.py:718: UserWarning: Named tensors and all their associated APIs are an experimental feature and subject to change. Please do not use them for anything important until they are released as stable. (Triggered internally at  /pytorch/c10/core/TensorImpl.h:1156.)\n",
      "  return torch.max_pool2d(input, kernel_size, stride, padding, dilation, ceil_mode)\n"
     ]
    },
    {
     "name": "stdout",
     "output_type": "stream",
     "text": [
      "train Loss: 0.6025 Acc: 0.7963 F1-Score: 0.6496\n",
      "val Loss: 0.3191 Acc: 0.9150 F1-Score: 0.8488\n",
      "\n",
      "Epoch 1/14\n",
      "----------\n",
      "train Loss: 0.3051 Acc: 0.9060 F1-Score: 0.8327\n",
      "val Loss: 0.2381 Acc: 0.9300 F1-Score: 0.8846\n",
      "\n",
      "Epoch 2/14\n",
      "----------\n",
      "train Loss: 0.2474 Acc: 0.9196 F1-Score: 0.8522\n",
      "val Loss: 0.1981 Acc: 0.9380 F1-Score: 0.8846\n",
      "\n",
      "Epoch 3/14\n",
      "----------\n",
      "train Loss: 0.2209 Acc: 0.9239 F1-Score: 0.8673\n",
      "val Loss: 0.1684 Acc: 0.9470 F1-Score: 0.9067\n",
      "\n",
      "Epoch 4/14\n",
      "----------\n",
      "train Loss: 0.1901 Acc: 0.9379 F1-Score: 0.8894\n",
      "val Loss: 0.1558 Acc: 0.9530 F1-Score: 0.9145\n",
      "\n",
      "Epoch 5/14\n",
      "----------\n",
      "train Loss: 0.1769 Acc: 0.9425 F1-Score: 0.8973\n",
      "val Loss: 0.1889 Acc: 0.9250 F1-Score: 0.8489\n",
      "\n",
      "Epoch 6/14\n",
      "----------\n",
      "train Loss: 0.1579 Acc: 0.9536 F1-Score: 0.9111\n",
      "val Loss: 0.1541 Acc: 0.9420 F1-Score: 0.8991\n",
      "\n",
      "Epoch 7/14\n",
      "----------\n",
      "train Loss: 0.1492 Acc: 0.9561 F1-Score: 0.9152\n",
      "val Loss: 0.1378 Acc: 0.9540 F1-Score: 0.9146\n",
      "\n",
      "Epoch 8/14\n",
      "----------\n",
      "train Loss: 0.1420 Acc: 0.9583 F1-Score: 0.9229\n",
      "val Loss: 0.1313 Acc: 0.9580 F1-Score: 0.9257\n",
      "\n",
      "Epoch 9/14\n",
      "----------\n",
      "train Loss: 0.1416 Acc: 0.9588 F1-Score: 0.9235\n",
      "val Loss: 0.1303 Acc: 0.9600 F1-Score: 0.9288\n",
      "\n",
      "Epoch 10/14\n",
      "----------\n",
      "train Loss: 0.1404 Acc: 0.9591 F1-Score: 0.9199\n",
      "val Loss: 0.1295 Acc: 0.9610 F1-Score: 0.9145\n",
      "\n",
      "Epoch 11/14\n",
      "----------\n",
      "train Loss: 0.1381 Acc: 0.9614 F1-Score: 0.9246\n",
      "val Loss: 0.1372 Acc: 0.9570 F1-Score: 0.9168\n",
      "\n",
      "Epoch 12/14\n",
      "----------\n",
      "train Loss: 0.1381 Acc: 0.9606 F1-Score: 0.9301\n",
      "val Loss: 0.1273 Acc: 0.9620 F1-Score: 0.9313\n",
      "\n",
      "Epoch 13/14\n",
      "----------\n",
      "train Loss: 0.1385 Acc: 0.9595 F1-Score: 0.9241\n",
      "val Loss: 0.1315 Acc: 0.9530 F1-Score: 0.9186\n",
      "\n",
      "Epoch 14/14\n",
      "----------\n",
      "train Loss: 0.1345 Acc: 0.9619 F1-Score: 0.9258\n",
      "val Loss: 0.1283 Acc: 0.9610 F1-Score: 0.9205\n",
      "\n",
      "Training complete in 100m 37s\n",
      "Best val F1-Score: 0.931303\n"
     ]
    }
   ],
   "source": [
    "model_conv = train_model(model_conv, criterion, optimizer_conv,\n",
    "                         exp_lr_scheduler, num_epochs=15)"
   ]
  },
  {
   "cell_type": "code",
   "execution_count": 18,
   "id": "acf4475b",
   "metadata": {},
   "outputs": [
    {
     "data": {
      "image/png": "[encoded data removed]",
      "text/plain": [
       "<Figure size 864x288 with 2 Axes>"
      ]
     },
     "metadata": {
      "needs_background": "light"
     },
     "output_type": "display_data"
    }
   ],
   "source": [
    "f, (ax1, ax2) = plt.subplots(1, 2, figsize=(12, 4))\n",
    "t = f.suptitle('Performance', fontsize=12)\n",
    "f.subplots_adjust(top=0.85, wspace=0.3)\n",
    "\n",
    "epochs = 15 #에폭사이즈\n",
    "ax1.plot(range(epochs), flscores['train'], label='Train F1-Score')\n",
    "ax1.plot(range(epochs), flscores['val'], label='Validation F1-Score')\n",
    "ax1.set_xticks(np.arange(0, epochs))\n",
    "ax1.set_ylabel('F1-Score Value')\n",
    "ax1.set_xlabel('Epoch')\n",
    "ax1.set_title('F1-Score')\n",
    "l1 = ax1.legend(loc=\"best\")\n",
    "\n",
    "ax2.plot(range(epochs), losses['train'], label='Train Loss')\n",
    "ax2.plot(range(epochs), losses['val'], label='Validation Loss')\n",
    "ax2.set_xticks(np.arange(0, epochs))\n",
    "ax2.set_ylabel('Loss Value')\n",
    "ax2.set_xlabel('Epoch')\n",
    "ax2.set_title('Loss')\n",
    "l2 = ax2.legend(loc=\"best\")\n",
    "\n",
    "f.savefig('DenseNetADAM', dpi = 300)"
   ]
  },
  {
   "cell_type": "code",
   "execution_count": 19,
   "id": "a1d0de35",
   "metadata": {},
   "outputs": [],
   "source": [
    "# 모델저장\n",
    "torch.save(model_conv, 'DenseNetADAM.pt')"
   ]
  },
  {
   "cell_type": "code",
   "execution_count": null,
   "id": "0d491ae9",
   "metadata": {},
   "outputs": [],
   "source": []
  }
 ],
 "metadata": {
  "kernelspec": {
   "display_name": "Python 3 (ipykernel)",
   "language": "python",
   "name": "python3"
  },
  "language_info": {
   "codemirror_mode": {
    "name": "ipython",
    "version": 3
   },
   "file_extension": ".py",
   "mimetype": "text/x-python",
   "name": "python",
   "nbconvert_exporter": "python",
   "pygments_lexer": "ipython3",
   "version": "3.9.7"
  }
 },
 "nbformat": 4,
 "nbformat_minor": 5
}
