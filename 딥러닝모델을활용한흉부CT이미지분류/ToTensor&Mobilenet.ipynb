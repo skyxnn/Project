{
 "cells": [
  {
   "cell_type": "markdown",
   "id": "d2d934eb",
   "metadata": {},
   "source": [
    "- model : mobilenet_v3_large\n",
    "- trans : transforms.Normalize(mean=[0.485, 0.456, 0.406],std=[0.229, 0.224, 0.225])\n",
    "- optim : Adam(torchvision.models.mobilenet_v3_large(input_size = (512,512,3), pooling = 'avg', pretrained = True, weights = 'imagenet').classifier[3].parameters(), lr=0.001)\n",
    "- lr_scheduler : StepLR(optim, step_size=7, gamma=0.1)"
   ]
  },
  {
   "cell_type": "code",
   "execution_count": 1,
   "id": "ba2b2f32",
   "metadata": {
    "scrolled": false
   },
   "outputs": [],
   "source": [
    "from glob import glob\n",
    "import pandas as pd\n",
    "from PIL import Image\n",
    "import numpy as np\n",
    "import torch\n",
    "import torchvision\n",
    "from torch.utils.data import DataLoader\n",
    "from torchvision import transforms\n",
    "import joblib\n",
    "import time, copy\n",
    "\n",
    "# Model\n",
    "import torch.nn as nn\n",
    "import torch.optim as optim\n",
    "from torch.optim import lr_scheduler\n",
    "from torchsummary import summary\n",
    "\n",
    "# 성능 평가\n",
    "from sklearn.metrics import f1_score\n",
    "\n",
    "# 시각화\n",
    "import matplotlib.pyplot as plt"
   ]
  },
  {
   "cell_type": "code",
   "execution_count": 7,
   "id": "e536eca6",
   "metadata": {},
   "outputs": [],
   "source": [
    "trans = transforms.Compose([transforms.ToTensor(),\n",
    "                            transforms.Normalize(mean=[0.485, 0.456, 0.406],std=[0.229, 0.224, 0.225])])"
   ]
  },
  {
   "cell_type": "code",
   "execution_count": 8,
   "id": "b1fc9424",
   "metadata": {},
   "outputs": [],
   "source": [
    "train_set = torchvision.datasets.ImageFolder(root = './Train_faabad06fe/Train',\n",
    "                                             transform = trans)\n",
    "val_set = torchvision.datasets.ImageFolder(root = './Validation_9857834a3b',\n",
    "                                           transform = trans)"
   ]
  },
  {
   "cell_type": "code",
   "execution_count": 9,
   "id": "9487f679",
   "metadata": {},
   "outputs": [
    {
     "name": "stdout",
     "output_type": "stream",
     "text": [
      "['ILD', 'Lung_Cancer', 'Normal', 'pneumonia', 'pneumothorax']\n",
      "['ILD', 'Lung_Cancer', 'Normal', 'pneumonia', 'pneumothorax']\n"
     ]
    }
   ],
   "source": [
    "print(train_set.classes)\n",
    "print(val_set.classes)"
   ]
  },
  {
   "cell_type": "code",
   "execution_count": 10,
   "id": "4e58f76f",
   "metadata": {},
   "outputs": [],
   "source": [
    "image_set = {'train' : train_set, 'val' : val_set}\n",
    "image_loaders = {x: DataLoader(image_set[x], batch_size=32, shuffle=True, num_workers=0)\n",
    "                 for x in ['train', 'val']}\n",
    "dataset_sizes = {x: len(image_set[x]) for x in ['train', 'val']}\n",
    "class_names = image_set['train'].classes"
   ]
  },
  {
   "cell_type": "code",
   "execution_count": 11,
   "id": "7ad15397",
   "metadata": {},
   "outputs": [],
   "source": [
    "if torch.cuda.is_available():\n",
    "    device = torch.device('cuda:0')\n",
    "else:\n",
    "    device = torch.device('cpu')"
   ]
  },
  {
   "cell_type": "code",
   "execution_count": 12,
   "id": "0eff289b",
   "metadata": {
    "scrolled": true
   },
   "outputs": [
    {
     "data": {
      "text/plain": [
       "device(type='cuda', index=0)"
      ]
     },
     "execution_count": 12,
     "metadata": {},
     "output_type": "execute_result"
    }
   ],
   "source": [
    "device"
   ]
  },
  {
   "cell_type": "code",
   "execution_count": 14,
   "id": "e403a3ea",
   "metadata": {},
   "outputs": [],
   "source": [
    "# 성능 시각화를 위한 losses, flscores 변수 선언.\n",
    "losses = {'train':[], 'val':[]}\n",
    "flscores = {'train':[], 'val':[]}"
   ]
  },
  {
   "cell_type": "code",
   "execution_count": 15,
   "id": "068b8bbf",
   "metadata": {},
   "outputs": [],
   "source": [
    "def train_model(model, criterion, optimizer, scheduler, num_epochs=10):\n",
    "    since = time.time()\n",
    "\n",
    "    best_model_wts = copy.deepcopy(model.state_dict())\n",
    "    best_f1score = 0.0\n",
    "    \n",
    "    for epoch in range(num_epochs):\n",
    "        print(f'Epoch {epoch}/{num_epochs - 1}')\n",
    "        print('-' * 10)\n",
    "\n",
    "        # 각 에폭(epoch)마다 train과 val 단계 진행.\n",
    "        for phase in ['train', 'val']:\n",
    "            if phase == 'train':\n",
    "                model.train()  # 모델을 학습 모드로 설정.\n",
    "            else:\n",
    "                model.eval()   # 모델을 평가 모드로 설정.\n",
    "\n",
    "            running_loss = 0.0\n",
    "            running_f1score = []\n",
    "\n",
    "            # 데이터를 반복.\n",
    "            for inputs, labels in image_loaders[phase]:\n",
    "                inputs = inputs.to(device)\n",
    "                labels = labels.to(device)\n",
    "\n",
    "                # 매개변수 경사도를 0으로 설정.\n",
    "                optimizer.zero_grad()\n",
    "                \n",
    "                # 학습.\n",
    "                if phase == 'train':\n",
    "                    with torch.set_grad_enabled(phase == 'train'):\n",
    "                        outputs = model(inputs)\n",
    "                        _, preds = torch.max(outputs, dim=1)\n",
    "                        #_, preds = torch.max(outputs, 1)\n",
    "                        loss = criterion(outputs, labels)\n",
    "                        f1score = f1_score(labels.data.cpu(), preds.data.cpu(), average = 'macro')\n",
    "\n",
    "                        # 역전파 + 최적화 진행.\n",
    "                        loss.requires_grad_(True)\n",
    "                        loss.backward()\n",
    "                        optimizer.step()\n",
    "                \n",
    "                # 평가.\n",
    "                if phase == 'val':\n",
    "                    with torch.no_grad():\n",
    "                        outputs = model(inputs)\n",
    "                        _, preds = torch.max(outputs, dim=1)\n",
    "                        #_, preds = torch.max(outputs, 1)\n",
    "                        loss = criterion(outputs, labels)\n",
    "                        f1score = f1_score(labels.data.cpu(), preds.data.cpu(), average = 'macro')\n",
    "                        \n",
    "                # 통계.\n",
    "                running_loss += loss.item() * inputs.size(0)\n",
    "                running_f1score.append(f1score)\n",
    "                \n",
    "            if phase == 'train':\n",
    "                scheduler.step()\n",
    "\n",
    "            epoch_loss = running_loss / dataset_sizes[phase]\n",
    "            epoch_f1score = sum(running_f1score) / len(running_f1score)\n",
    "            \n",
    "            losses[phase].append(epoch_loss)\n",
    "            flscores[phase].append(epoch_f1score)\n",
    "            \n",
    "            print(f'{phase} Loss: {epoch_loss:.4f} F1-Score: {epoch_f1score:.4f}')\n",
    "\n",
    "            # 모델 deep copy.\n",
    "            if phase == 'val' and epoch_f1score > best_f1score:\n",
    "                best_f1score = epoch_f1score\n",
    "                best_model_wts = copy.deepcopy(model.state_dict())\n",
    "\n",
    "        print()\n",
    "\n",
    "    time_elapsed = time.time() - since\n",
    "    print(f'Training complete in {time_elapsed // 60:.0f}m {time_elapsed % 60:.0f}s')\n",
    "    print(f'Best val F1-Score: {best_f1score:4f}')\n",
    "\n",
    "    # 가장 나은 모델 가중치를 불러옴.\n",
    "    model.load_state_dict(best_model_wts)\n",
    "    return model"
   ]
  },
  {
   "cell_type": "code",
   "execution_count": 16,
   "id": "ba681564",
   "metadata": {},
   "outputs": [],
   "source": [
    "model_conv = torchvision.models.mobilenet_v3_large(input_size = (512,512,3), pooling = 'avg',\n",
    "                                                   pretrained = True, weights = 'imagenet')\n",
    "\n",
    "# 새로 생성된 모듈의 매개변수는 기본값이 requires_grad=True\n",
    "for param in model_conv.parameters():\n",
    "    param.requires_grad = False\n",
    "\n",
    "num_ftrs = model_conv.classifier[3].in_features\n",
    "model_conv.classifier[3] = nn.Linear(num_ftrs, 5)\n",
    "\n",
    "model_conv = model_conv.to(device)\n",
    "\n",
    "criterion = nn.CrossEntropyLoss()\n",
    "\n",
    "optimizer_conv = optim.Adam(model_conv.classifier[3].parameters(), lr=0.001)\n",
    "\n",
    "# 7 에폭마다 0.1씩 학습률 감소\n",
    "exp_lr_scheduler = lr_scheduler.StepLR(optimizer_conv, step_size=7, gamma=0.1)"
   ]
  },
  {
   "cell_type": "code",
   "execution_count": 17,
   "id": "2271005e",
   "metadata": {
    "scrolled": false
   },
   "outputs": [
    {
     "name": "stdout",
     "output_type": "stream",
     "text": [
      "Epoch 0/14\n",
      "----------\n",
      "train Loss: 0.4825 Acc: 0.8405 F1-Score: 0.7356\n",
      "val Loss: 0.6556 Acc: 0.7550 F1-Score: 0.5638\n",
      "\n",
      "Epoch 1/14\n",
      "----------\n",
      "train Loss: 0.2571 Acc: 0.9164 F1-Score: 0.8530\n",
      "val Loss: 0.4515 Acc: 0.8150 F1-Score: 0.6638\n",
      "\n",
      "Epoch 2/14\n",
      "----------\n",
      "train Loss: 0.2072 Acc: 0.9324 F1-Score: 0.8792\n",
      "val Loss: 0.1992 Acc: 0.9250 F1-Score: 0.8750\n",
      "\n",
      "Epoch 3/14\n",
      "----------\n",
      "train Loss: 0.1864 Acc: 0.9374 F1-Score: 0.8902\n",
      "val Loss: 0.1581 Acc: 0.9520 F1-Score: 0.9084\n",
      "\n",
      "Epoch 4/14\n",
      "----------\n",
      "train Loss: 0.1692 Acc: 0.9430 F1-Score: 0.8984\n",
      "val Loss: 0.1408 Acc: 0.9540 F1-Score: 0.9146\n",
      "\n",
      "Epoch 5/14\n",
      "----------\n",
      "train Loss: 0.1546 Acc: 0.9508 F1-Score: 0.9125\n",
      "val Loss: 0.1334 Acc: 0.9590 F1-Score: 0.9262\n",
      "\n",
      "Epoch 6/14\n",
      "----------\n",
      "train Loss: 0.1497 Acc: 0.9500 F1-Score: 0.9115\n",
      "val Loss: 0.1270 Acc: 0.9580 F1-Score: 0.9191\n",
      "\n",
      "Epoch 7/14\n",
      "----------\n",
      "train Loss: 0.1373 Acc: 0.9581 F1-Score: 0.9245\n",
      "val Loss: 0.1241 Acc: 0.9620 F1-Score: 0.9370\n",
      "\n",
      "Epoch 8/14\n",
      "----------\n",
      "train Loss: 0.1388 Acc: 0.9538 F1-Score: 0.9145\n",
      "val Loss: 0.1235 Acc: 0.9630 F1-Score: 0.9273\n",
      "\n",
      "Epoch 9/14\n",
      "----------\n",
      "train Loss: 0.1360 Acc: 0.9574 F1-Score: 0.9221\n",
      "val Loss: 0.1227 Acc: 0.9630 F1-Score: 0.9213\n",
      "\n",
      "Epoch 10/14\n",
      "----------\n",
      "train Loss: 0.1356 Acc: 0.9564 F1-Score: 0.9194\n",
      "val Loss: 0.1223 Acc: 0.9610 F1-Score: 0.9063\n",
      "\n",
      "Epoch 11/14\n",
      "----------\n",
      "train Loss: 0.1338 Acc: 0.9538 F1-Score: 0.9161\n",
      "val Loss: 0.1216 Acc: 0.9610 F1-Score: 0.9216\n",
      "\n",
      "Epoch 12/14\n",
      "----------\n",
      "train Loss: 0.1339 Acc: 0.9566 F1-Score: 0.9197\n",
      "val Loss: 0.1214 Acc: 0.9600 F1-Score: 0.9203\n",
      "\n",
      "Epoch 13/14\n",
      "----------\n",
      "train Loss: 0.1340 Acc: 0.9565 F1-Score: 0.9165\n",
      "val Loss: 0.1207 Acc: 0.9610 F1-Score: 0.9312\n",
      "\n",
      "Epoch 14/14\n",
      "----------\n",
      "train Loss: 0.1315 Acc: 0.9581 F1-Score: 0.9236\n",
      "val Loss: 0.1204 Acc: 0.9610 F1-Score: 0.9282\n",
      "\n",
      "Training complete in 20m 32s\n",
      "Best val F1-Score: 0.936962\n"
     ]
    }
   ],
   "source": [
    "model_conv = train_model(model_conv, criterion, optimizer_conv,\n",
    "                         exp_lr_scheduler, num_epochs=15)"
   ]
  },
  {
   "cell_type": "code",
   "execution_count": 18,
   "id": "177cfcf9",
   "metadata": {
    "scrolled": true
   },
   "outputs": [
    {
     "data": {
      "image/png": "[encoded data removed]",
      "text/plain": [
       "<Figure size 864x288 with 2 Axes>"
      ]
     },
     "metadata": {
      "needs_background": "light"
     },
     "output_type": "display_data"
    }
   ],
   "source": [
    "f, (ax1, ax2) = plt.subplots(1, 2, figsize=(12, 4))\n",
    "t = f.suptitle('Performance', fontsize=12)\n",
    "f.subplots_adjust(top=0.85, wspace=0.3)\n",
    "\n",
    "epochs = 15 #에폭사이즈\n",
    "ax1.plot(range(epochs), flscores['train'], label='Train F1-Score')\n",
    "ax1.plot(range(epochs), flscores['val'], label='Validation F1-Score')\n",
    "ax1.set_xticks(np.arange(0, epochs))\n",
    "ax1.set_ylabel('F1-Score Value')\n",
    "ax1.set_xlabel('Epoch')\n",
    "ax1.set_title('F1-Score')\n",
    "l1 = ax1.legend(loc=\"best\")\n",
    "\n",
    "ax2.plot(range(epochs), losses['train'], label='Train Loss')\n",
    "ax2.plot(range(epochs), losses['val'], label='Validation Loss')\n",
    "ax2.set_xticks(np.arange(0, epochs))\n",
    "ax2.set_ylabel('Loss Value')\n",
    "ax2.set_xlabel('Epoch')\n",
    "ax2.set_title('Loss')\n",
    "l2 = ax2.legend(loc=\"best\")\n",
    "\n",
    "f.savefig('MoBileNetV3ADAM', dpi = 300)"
   ]
  },
  {
   "cell_type": "code",
   "execution_count": 19,
   "id": "7bac4484",
   "metadata": {},
   "outputs": [],
   "source": [
    "# 모델저장\n",
    "torch.save(model_conv, 'MobileNetADam937.pt')"
   ]
  },
  {
   "cell_type": "code",
   "execution_count": null,
   "id": "9fbc03df",
   "metadata": {},
   "outputs": [],
   "source": []
  }
 ],
 "metadata": {
  "kernelspec": {
   "display_name": "Python 3 (ipykernel)",
   "language": "python",
   "name": "python3"
  },
  "language_info": {
   "codemirror_mode": {
    "name": "ipython",
    "version": 3
   },
   "file_extension": ".py",
   "mimetype": "text/x-python",
   "name": "python",
   "nbconvert_exporter": "python",
   "pygments_lexer": "ipython3",
   "version": "3.9.7"
  }
 },
 "nbformat": 4,
 "nbformat_minor": 5
}
